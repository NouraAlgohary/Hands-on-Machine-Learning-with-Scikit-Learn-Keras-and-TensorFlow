{
 "cells": [
  {
   "cell_type": "markdown",
   "id": "a1e64416",
   "metadata": {},
   "source": [
    "# Linear Regression"
   ]
  },
  {
   "cell_type": "markdown",
   "id": "ac718a65",
   "metadata": {},
   "source": [
    "## The Normal Equation"
   ]
  },
  {
   "cell_type": "code",
   "execution_count": 55,
   "id": "891a6acf",
   "metadata": {},
   "outputs": [],
   "source": [
    "import numpy as np\n",
    "\n",
    "X = 2 * np.random.rand(100,1)\n",
    "y = 4 + 3 * X + np.random.rand(100,1)"
   ]
  },
  {
   "cell_type": "code",
   "execution_count": 56,
   "id": "b5261e3b",
   "metadata": {},
   "outputs": [
    {
     "data": {
      "text/plain": [
       "<matplotlib.collections.PathCollection at 0x2288fbd5940>"
      ]
     },
     "execution_count": 56,
     "metadata": {},
     "output_type": "execute_result"
    },
    {
     "data": {
      "image/png": "[encoded data removed]",
      "text/plain": [
       "<Figure size 432x288 with 1 Axes>"
      ]
     },
     "metadata": {
      "needs_background": "light"
     },
     "output_type": "display_data"
    }
   ],
   "source": [
    "import matplotlib.pyplot as plt\n",
    "plt.scatter(X,y)"
   ]
  },
  {
   "cell_type": "code",
   "execution_count": 57,
   "id": "40788d02",
   "metadata": {},
   "outputs": [
    {
     "data": {
      "text/plain": [
       "array([[4.53187951],\n",
       "       [3.01322885]])"
      ]
     },
     "execution_count": 57,
     "metadata": {},
     "output_type": "execute_result"
    }
   ],
   "source": [
    "# add x0 = 1 to each instance\n",
    "X_b = np.c_[np.ones((100,1)), X]\n",
    "theta_best = np.linalg.inv(X_b.T.dot(X_b)).dot(X_b.T).dot(y)\n",
    "theta_best"
   ]
  },
  {
   "cell_type": "code",
   "execution_count": 58,
   "id": "2021f383",
   "metadata": {},
   "outputs": [
    {
     "data": {
      "text/plain": [
       "array([[ 4.53187951],\n",
       "       [10.55833722]])"
      ]
     },
     "execution_count": 58,
     "metadata": {},
     "output_type": "execute_result"
    }
   ],
   "source": [
    "X_new = np.array([[0], [2]])\n",
    "X_new_b = np.c_[np.ones((2,1)), X_new]\n",
    "y_predict = X_new_b.dot(theta_best)\n",
    "y_predict"
   ]
  },
  {
   "cell_type": "code",
   "execution_count": 59,
   "id": "3c8a6277",
   "metadata": {},
   "outputs": [
    {
     "name": "stdout",
     "output_type": "stream",
     "text": [
      "[[0]\n",
      " [2]]\n",
      "[[1. 0.]\n",
      " [1. 2.]]\n"
     ]
    }
   ],
   "source": [
    "print(X_new)\n",
    "print(X_new_b)"
   ]
  },
  {
   "cell_type": "code",
   "execution_count": 60,
   "id": "c393e218",
   "metadata": {},
   "outputs": [
    {
     "data": {
      "text/plain": [
       "Text(0, 0.5, 'y')"
      ]
     },
     "execution_count": 60,
     "metadata": {},
     "output_type": "execute_result"
    },
    {
     "data": {
      "image/png": "[encoded data removed]",
      "text/plain": [
       "<Figure size 432x288 with 1 Axes>"
      ]
     },
     "metadata": {
      "needs_background": "light"
     },
     "output_type": "display_data"
    }
   ],
   "source": [
    "plt.plot(X_new, y_predict, 'r-')\n",
    "plt.plot(X,y,'b.')\n",
    "plt.axis([0, 2, 0, 15])\n",
    "plt.xlabel('X1')\n",
    "plt.ylabel('y')"
   ]
  },
  {
   "cell_type": "code",
   "execution_count": 61,
   "id": "9c4bdbb7",
   "metadata": {},
   "outputs": [
    {
     "data": {
      "text/plain": [
       "(array([4.53187951]), array([[3.01322885]]))"
      ]
     },
     "execution_count": 61,
     "metadata": {},
     "output_type": "execute_result"
    }
   ],
   "source": [
    "from sklearn.linear_model import LinearRegression\n",
    "lin_reg = LinearRegression()\n",
    "lin_reg.fit(X,y)\n",
    "lin_reg.intercept_ , lin_reg.coef_"
   ]
  },
  {
   "cell_type": "code",
   "execution_count": 62,
   "id": "95b10bef",
   "metadata": {},
   "outputs": [
    {
     "data": {
      "text/plain": [
       "array([[ 4.53187951],\n",
       "       [10.55833722]])"
      ]
     },
     "execution_count": 62,
     "metadata": {},
     "output_type": "execute_result"
    }
   ],
   "source": [
    "lin_reg.predict(X_new)"
   ]
  },
  {
   "cell_type": "code",
   "execution_count": 63,
   "id": "7bd53469",
   "metadata": {},
   "outputs": [
    {
     "data": {
      "text/plain": [
       "array([[4.53187951],\n",
       "       [3.01322885]])"
      ]
     },
     "execution_count": 63,
     "metadata": {},
     "output_type": "execute_result"
    }
   ],
   "source": [
    "theta_best_svd, residuals, rank, s = np.linalg.lstsq(X_b, y, rcond=1e-6)\n",
    "theta_best_svd"
   ]
  },
  {
   "cell_type": "code",
   "execution_count": 64,
   "id": "5c037ffb",
   "metadata": {},
   "outputs": [
    {
     "data": {
      "text/plain": [
       "array([[4.53187951],\n",
       "       [3.01322885]])"
      ]
     },
     "execution_count": 64,
     "metadata": {},
     "output_type": "execute_result"
    }
   ],
   "source": [
    "np.linalg.pinv(X_b).dot(y)"
   ]
  },
  {
   "cell_type": "markdown",
   "id": "6580ab7e",
   "metadata": {},
   "source": [
    "# Gradient Descent"
   ]
  },
  {
   "cell_type": "markdown",
   "id": "b8a4aa94",
   "metadata": {},
   "source": [
    "## Batch Gradient Descent"
   ]
  },
  {
   "cell_type": "code",
   "execution_count": 65,
   "id": "2f85035c",
   "metadata": {},
   "outputs": [
    {
     "data": {
      "text/plain": [
       "array([[4.53187951],\n",
       "       [3.01322885]])"
      ]
     },
     "execution_count": 65,
     "metadata": {},
     "output_type": "execute_result"
    }
   ],
   "source": [
    "eta = 0.1\n",
    "n_iter = 1000\n",
    "m = 100\n",
    "\n",
    "theta = np.random.randn(2,1)\n",
    "\n",
    "for iter in range(n_iter):\n",
    "    gradients = 2/m * X_b.T.dot(X_b.dot(theta) - y)\n",
    "    theta = theta - eta * gradients\n",
    "    \n",
    "theta"
   ]
  },
  {
   "cell_type": "markdown",
   "id": "1e4f1492",
   "metadata": {},
   "source": [
    "## Stochastic Gradient Descent"
   ]
  },
  {
   "cell_type": "code",
   "execution_count": 66,
   "id": "e551b15b",
   "metadata": {},
   "outputs": [
    {
     "data": {
      "text/plain": [
       "array([[4.52903165],\n",
       "       [3.0154991 ]])"
      ]
     },
     "execution_count": 66,
     "metadata": {},
     "output_type": "execute_result"
    }
   ],
   "source": [
    "n_epochs = 50\n",
    "t0, t1 = 5, 50\n",
    "\n",
    "def learning_schedule(t):\n",
    "    return t0/ (t+t1)\n",
    "\n",
    "theta = np.random.randn(2,1)\n",
    "\n",
    "for epoch in range(n_epochs):\n",
    "    for i in range(m):\n",
    "        rand_idx = np.random.randint(m)\n",
    "        xi = X_b[rand_idx:rand_idx+1]\n",
    "        yi = y[rand_idx:rand_idx+1]\n",
    "        gradients = 2* xi.T.dot(xi.dot(theta) - yi)\n",
    "        eta = learning_schedule(epoch * m + i)\n",
    "        theta = theta - eta * gradients\n",
    "\n",
    "theta"
   ]
  },
  {
   "cell_type": "code",
   "execution_count": 67,
   "id": "ae6acedf",
   "metadata": {},
   "outputs": [
    {
     "data": {
      "text/plain": [
       "SGDRegressor(eta0=0.1, penalty=None)"
      ]
     },
     "execution_count": 67,
     "metadata": {},
     "output_type": "execute_result"
    }
   ],
   "source": [
    "from sklearn.linear_model import SGDRegressor\n",
    "sgd_reg = SGDRegressor(max_iter=1000, tol=1e-3, penalty=None, eta0=0.1)\n",
    "sgd_reg.fit(X,y.ravel())"
   ]
  },
  {
   "cell_type": "code",
   "execution_count": 68,
   "id": "fec2f6f7",
   "metadata": {},
   "outputs": [
    {
     "data": {
      "text/plain": [
       "(array([4.52985341]), array([3.04937281]))"
      ]
     },
     "execution_count": 68,
     "metadata": {},
     "output_type": "execute_result"
    }
   ],
   "source": [
    "sgd_reg.intercept_, sgd_reg.coef_"
   ]
  },
  {
   "cell_type": "markdown",
   "id": "92d3ea8e",
   "metadata": {},
   "source": [
    "# Polynomial Regression"
   ]
  },
  {
   "cell_type": "code",
   "execution_count": 69,
   "id": "9a493983",
   "metadata": {},
   "outputs": [],
   "source": [
    "X = 6 * np.random.rand(m,1) - 3\n",
    "y = 0.5 * X**2+ X + 2 + np.random.randn(m,1)"
   ]
  },
  {
   "cell_type": "code",
   "execution_count": 70,
   "id": "304bceeb",
   "metadata": {},
   "outputs": [
    {
     "data": {
      "text/plain": [
       "(-3.0, 3.0, 0.0, 10.0)"
      ]
     },
     "execution_count": 70,
     "metadata": {},
     "output_type": "execute_result"
    },
    {
     "data": {
      "image/png": "[encoded data removed]",
      "text/plain": [
       "<Figure size 432x288 with 1 Axes>"
      ]
     },
     "metadata": {
      "needs_background": "light"
     },
     "output_type": "display_data"
    }
   ],
   "source": [
    "plt.plot(X, y, \"b.\")\n",
    "plt.xlabel(\"$x_1$\", fontsize=18)\n",
    "plt.ylabel(\"$y$\", rotation=0, fontsize=18)\n",
    "plt.axis([-3, 3, 0, 10])"
   ]
  },
  {
   "cell_type": "code",
   "execution_count": 71,
   "id": "88582916",
   "metadata": {},
   "outputs": [
    {
     "data": {
      "text/plain": [
       "array([-0.62679306])"
      ]
     },
     "execution_count": 71,
     "metadata": {},
     "output_type": "execute_result"
    }
   ],
   "source": [
    "from sklearn.preprocessing import PolynomialFeatures\n",
    "poly_feat = PolynomialFeatures(degree=2, include_bias=False)\n",
    "X_poly = poly_feat.fit_transform(X)\n",
    "X[0]"
   ]
  },
  {
   "cell_type": "code",
   "execution_count": 72,
   "id": "46f05a5d",
   "metadata": {},
   "outputs": [
    {
     "data": {
      "text/plain": [
       "array([-0.62679306,  0.39286953])"
      ]
     },
     "execution_count": 72,
     "metadata": {},
     "output_type": "execute_result"
    }
   ],
   "source": [
    "X_poly[0]"
   ]
  },
  {
   "cell_type": "code",
   "execution_count": 73,
   "id": "e68dd623",
   "metadata": {},
   "outputs": [
    {
     "data": {
      "text/plain": [
       "((100, 2), (100, 1))"
      ]
     },
     "execution_count": 73,
     "metadata": {},
     "output_type": "execute_result"
    }
   ],
   "source": [
    "X_poly.shape, y.shape"
   ]
  },
  {
   "cell_type": "code",
   "execution_count": 74,
   "id": "3ee7e1e7",
   "metadata": {},
   "outputs": [
    {
     "data": {
      "text/plain": [
       "(array([2.09483022]), array([[0.97931192, 0.4514441 ]]))"
      ]
     },
     "execution_count": 74,
     "metadata": {},
     "output_type": "execute_result"
    }
   ],
   "source": [
    "lin_reg = LinearRegression()\n",
    "lin_reg.fit(X_poly, y)\n",
    "lin_reg.intercept_, lin_reg.coef_"
   ]
  },
  {
   "cell_type": "code",
   "execution_count": 75,
   "id": "16d30a62",
   "metadata": {},
   "outputs": [
    {
     "data": {
      "text/plain": [
       "<matplotlib.legend.Legend at 0x2288fcb2460>"
      ]
     },
     "execution_count": 75,
     "metadata": {},
     "output_type": "execute_result"
    },
    {
     "data": {
      "image/png": "[encoded data removed]",
      "text/plain": [
       "<Figure size 432x288 with 1 Axes>"
      ]
     },
     "metadata": {
      "needs_background": "light"
     },
     "output_type": "display_data"
    }
   ],
   "source": [
    "plt.plot(X, y, 'b.')\n",
    "plt.axis([-3, 3, 0, 10])\n",
    "plt.xlabel('X1')\n",
    "plt.ylabel('y')\n",
    "\n",
    "#prediction\n",
    "X_new = np.linspace(-3, 3, 100).reshape(100, 1)\n",
    "X_new_poly = poly_feat.transform(X_new)\n",
    "y_pred = lin_reg.predict(X_new_poly)\n",
    "plt.plot(X_new, y_pred, 'r-' , label='Predictions')\n",
    "plt.legend(loc=\"upper left\", fontsize=14)"
   ]
  },
  {
   "cell_type": "markdown",
   "id": "21f36cff",
   "metadata": {},
   "source": [
    "# Learning Curves"
   ]
  },
  {
   "cell_type": "code",
   "execution_count": 76,
   "id": "ee7a9cdb",
   "metadata": {},
   "outputs": [],
   "source": [
    "from sklearn.metrics import mean_squared_error\n",
    "from sklearn.model_selection import train_test_split\n",
    "\n",
    "def plot_learning_curves(model, X, y):\n",
    "    X_train, X_val, y_train, y_val = train_test_split(X,y , test_size=0.2)\n",
    "    train_errors, val_errors = [], []\n",
    "    for m in range(1, len(X_train)):\n",
    "        model.fit(X_train[:m], y_train[:m])\n",
    "        y_train_pred = model.predict(X_train[:m])\n",
    "        y_val_pred = model.predict(X_val)\n",
    "        train_errors.append(mean_squared_error(y_train[:m], y_train_pred))\n",
    "        val_errors.append(mean_squared_error(y_val, y_val_pred))\n",
    "    plt.plot(np.sqrt(train_errors), 'r-+', linewidth=2, label='train')\n",
    "    plt.plot(np.sqrt(val_errors), 'b-', linewidth=3, label='val')"
   ]
  },
  {
   "cell_type": "code",
   "execution_count": 77,
   "id": "9f1fd349",
   "metadata": {},
   "outputs": [
    {
     "data": {
      "image/png": "[encoded data removed]",
      "text/plain": [
       "<Figure size 432x288 with 1 Axes>"
      ]
     },
     "metadata": {
      "needs_background": "light"
     },
     "output_type": "display_data"
    }
   ],
   "source": [
    "lin_reg = LinearRegression()\n",
    "plot_learning_curves(lin_reg, X,y)"
   ]
  },
  {
   "cell_type": "code",
   "execution_count": 78,
   "id": "380536ec",
   "metadata": {},
   "outputs": [
    {
     "data": {
      "text/plain": [
       "(0.0, 80.0, 0.0, 3.0)"
      ]
     },
     "execution_count": 78,
     "metadata": {},
     "output_type": "execute_result"
    },
    {
     "data": {
      "image/png": "[encoded data removed]",
      "text/plain": [
       "<Figure size 432x288 with 1 Axes>"
      ]
     },
     "metadata": {
      "needs_background": "light"
     },
     "output_type": "display_data"
    }
   ],
   "source": [
    "from sklearn.pipeline import Pipeline \n",
    "\n",
    "poly_reg = Pipeline([(\"poly_features\", PolynomialFeatures(degree=10, include_bias=False)), ('lin_reg',LinearRegression())])\n",
    "\n",
    "plot_learning_curves(poly_reg, X, y)\n",
    "plt.axis([0, 80, 0, 3])"
   ]
  },
  {
   "cell_type": "markdown",
   "id": "6d86d6ab",
   "metadata": {},
   "source": [
    "# Regularized Linear Model"
   ]
  },
  {
   "cell_type": "markdown",
   "id": "cf8b0f6d",
   "metadata": {},
   "source": [
    "## Ridge Regression"
   ]
  },
  {
   "cell_type": "code",
   "execution_count": 79,
   "id": "1812bdcc",
   "metadata": {},
   "outputs": [
    {
     "data": {
      "text/plain": [
       "array([[4.85231977]])"
      ]
     },
     "execution_count": 79,
     "metadata": {},
     "output_type": "execute_result"
    }
   ],
   "source": [
    "from sklearn.linear_model import Ridge\n",
    "ridge_reg = Ridge(alpha=1, solver='cholesky')\n",
    "ridge_reg.fit(X,y)\n",
    "ridge_reg.predict([[1.5]])"
   ]
  },
  {
   "cell_type": "markdown",
   "id": "05bd7850",
   "metadata": {},
   "source": [
    "Using Stochastic Gradient Descent"
   ]
  },
  {
   "cell_type": "code",
   "execution_count": 80,
   "id": "9753b7af",
   "metadata": {},
   "outputs": [
    {
     "data": {
      "text/plain": [
       "array([4.81323247])"
      ]
     },
     "execution_count": 80,
     "metadata": {},
     "output_type": "execute_result"
    }
   ],
   "source": [
    "sgd_reg = SGDRegressor(penalty='l2')\n",
    "sgd_reg.fit(X,y.ravel())\n",
    "sgd_reg.predict([[1.5]])"
   ]
  },
  {
   "cell_type": "markdown",
   "id": "40247847",
   "metadata": {},
   "source": [
    "## Lasso Regression"
   ]
  },
  {
   "cell_type": "code",
   "execution_count": 81,
   "id": "207ebb9f",
   "metadata": {},
   "outputs": [
    {
     "data": {
      "text/plain": [
       "array([4.80496227])"
      ]
     },
     "execution_count": 81,
     "metadata": {},
     "output_type": "execute_result"
    }
   ],
   "source": [
    "from sklearn.linear_model import Lasso\n",
    "lasso_reg = Lasso(alpha=0.1)\n",
    "lasso_reg.fit(X,y)\n",
    "lasso_reg.predict([[1.5]])"
   ]
  },
  {
   "cell_type": "markdown",
   "id": "4e134efb",
   "metadata": {},
   "source": [
    "Using Stochastic Gradient Descent"
   ]
  },
  {
   "cell_type": "code",
   "execution_count": 82,
   "id": "68663151",
   "metadata": {},
   "outputs": [
    {
     "data": {
      "text/plain": [
       "array([4.82164931])"
      ]
     },
     "execution_count": 82,
     "metadata": {},
     "output_type": "execute_result"
    }
   ],
   "source": [
    "sgd_reg = SGDRegressor(penalty='l1')\n",
    "sgd_reg.fit(X,y.ravel())\n",
    "sgd_reg.predict([[1.5]])"
   ]
  },
  {
   "cell_type": "markdown",
   "id": "9aa63adb",
   "metadata": {},
   "source": [
    "## Elastic Net"
   ]
  },
  {
   "cell_type": "code",
   "execution_count": 83,
   "id": "b0f21b38",
   "metadata": {},
   "outputs": [
    {
     "data": {
      "text/plain": [
       "array([4.80383763])"
      ]
     },
     "execution_count": 83,
     "metadata": {},
     "output_type": "execute_result"
    }
   ],
   "source": [
    "from sklearn.linear_model import ElasticNet\n",
    "elastic_net = ElasticNet(alpha=0.1, l1_ratio=0.5)\n",
    "elastic_net.fit(X,y)\n",
    "elastic_net.predict([[1.5]])"
   ]
  },
  {
   "cell_type": "markdown",
   "id": "fa475709",
   "metadata": {},
   "source": [
    "## Early Stopping"
   ]
  },
  {
   "cell_type": "code",
   "execution_count": 84,
   "id": "f6f07c33",
   "metadata": {},
   "outputs": [
    {
     "ename": "IndentationError",
     "evalue": "expected an indented block (Temp/ipykernel_8932/2802058507.py, line 21)",
     "output_type": "error",
     "traceback": [
      "\u001b[1;36m  File \u001b[1;32m\"C:\\Users\\noura\\AppData\\Local\\Temp/ipykernel_8932/2802058507.py\"\u001b[1;36m, line \u001b[1;32m21\u001b[0m\n\u001b[1;33m    minimum_val_error = val_error\u001b[0m\n\u001b[1;37m    ^\u001b[0m\n\u001b[1;31mIndentationError\u001b[0m\u001b[1;31m:\u001b[0m expected an indented block\n"
     ]
    }
   ],
   "source": [
    "from sklearn.base import clone\n",
    "from sklearn.preprocessing import StandardScaler\n",
    "\n",
    "X_train, X_val, y_train, y_val = train_test_split(X,y , test_size=0.2)\n",
    "oly_scaler = Pipeline([\n",
    " (\"poly_features\", PolynomialFeatures(degree=90, include_bias=False)),\n",
    " (\"std_scaler\", StandardScaler())\n",
    " ])\n",
    "X_train_poly_scaled = poly_scaler.fit_transform(X_train)\n",
    "X_val_poly_scaled = poly_scaler.transform(X_val)\n",
    "sgd_reg = SGDRegressor(max_iter=1, tol=-np.infty, warm_start=True,\n",
    " penalty=None, learning_rate=\"constant\", eta0=0.0005)\n",
    "minimum_val_error = float(\"inf\")\n",
    "best_epoch = None\n",
    "best_model = None\n",
    "for epoch in range(1000):\n",
    "    sgd_reg.fit(X_train_poly_scaled, y_train) # continues where it left off\n",
    "    y_val_predict = sgd_reg.predict(X_val_poly_scaled)\n",
    "    val_error = mean_squared_error(y_val, y_val_predict)\n",
    "    if val_error < minimum_val_error:\n",
    "    minimum_val_error = val_error\n",
    "    best_epoch = epoch\n",
    "    best_model = clone(sgd_reg)"
   ]
  },
  {
   "cell_type": "markdown",
   "id": "9281f326",
   "metadata": {},
   "source": [
    "# Logistic Regression"
   ]
  },
  {
   "cell_type": "markdown",
   "id": "393f1a04",
   "metadata": {},
   "source": [
    "## Estimating Probabilities"
   ]
  },
  {
   "cell_type": "code",
   "execution_count": 85,
   "id": "a57d3f23",
   "metadata": {},
   "outputs": [
    {
     "data": {
      "text/plain": [
       "[<matplotlib.lines.Line2D at 0x2288f8451c0>]"
      ]
     },
     "execution_count": 85,
     "metadata": {},
     "output_type": "execute_result"
    },
    {
     "data": {
      "image/png": "[encoded data removed]",
      "text/plain": [
       "<Figure size 432x288 with 1 Axes>"
      ]
     },
     "metadata": {
      "needs_background": "light"
     },
     "output_type": "display_data"
    }
   ],
   "source": [
    "t = np.linspace(-10, 10, 100)\n",
    "sigmoid = 1/(1+np.exp(-t))\n",
    "plt.plot(t, sigmoid)\n",
    "plt.xlabel('t')\n",
    "plt.plot([-10, 10], [0,0], 'k-')\n",
    "plt.plot([0, 0], [0, 1], 'k-')\n",
    "plt.plot([-10, 10], [0.5, 0.5], \"k:\")\n",
    "plt.plot([-10, 10], [1, 1], \"k:\")"
   ]
  },
  {
   "cell_type": "markdown",
   "id": "6ecdcf9e",
   "metadata": {},
   "source": [
    "## Decision Boundaries"
   ]
  },
  {
   "cell_type": "code",
   "execution_count": 86,
   "id": "2962eaca",
   "metadata": {},
   "outputs": [
    {
     "data": {
      "text/plain": [
       "['data',\n",
       " 'target',\n",
       " 'frame',\n",
       " 'target_names',\n",
       " 'DESCR',\n",
       " 'feature_names',\n",
       " 'filename']"
      ]
     },
     "execution_count": 86,
     "metadata": {},
     "output_type": "execute_result"
    }
   ],
   "source": [
    "from sklearn import datasets\n",
    "iris = datasets.load_iris()\n",
    "list(iris.keys())"
   ]
  },
  {
   "cell_type": "code",
   "execution_count": 87,
   "id": "91ada58b",
   "metadata": {},
   "outputs": [
    {
     "data": {
      "text/plain": [
       "'.. _iris_dataset:\\n\\nIris plants dataset\\n--------------------\\n\\n**Data Set Characteristics:**\\n\\n    :Number of Instances: 150 (50 in each of three classes)\\n    :Number of Attributes: 4 numeric, predictive attributes and the class\\n    :Attribute Information:\\n        - sepal length in cm\\n        - sepal width in cm\\n        - petal length in cm\\n        - petal width in cm\\n        - class:\\n                - Iris-Setosa\\n                - Iris-Versicolour\\n                - Iris-Virginica\\n                \\n    :Summary Statistics:\\n\\n    ============== ==== ==== ======= ===== ====================\\n                    Min  Max   Mean    SD   Class Correlation\\n    ============== ==== ==== ======= ===== ====================\\n    sepal length:   4.3  7.9   5.84   0.83    0.7826\\n    sepal width:    2.0  4.4   3.05   0.43   -0.4194\\n    petal length:   1.0  6.9   3.76   1.76    0.9490  (high!)\\n    petal width:    0.1  2.5   1.20   0.76    0.9565  (high!)\\n    ============== ==== ==== ======= ===== ====================\\n\\n    :Missing Attribute Values: None\\n    :Class Distribution: 33.3% for each of 3 classes.\\n    :Creator: R.A. Fisher\\n    :Donor: Michael Marshall (MARSHALL%PLU@io.arc.nasa.gov)\\n    :Date: July, 1988\\n\\nThe famous Iris database, first used by Sir R.A. Fisher. The dataset is taken\\nfrom Fisher\\'s paper. Note that it\\'s the same as in R, but not as in the UCI\\nMachine Learning Repository, which has two wrong data points.\\n\\nThis is perhaps the best known database to be found in the\\npattern recognition literature.  Fisher\\'s paper is a classic in the field and\\nis referenced frequently to this day.  (See Duda & Hart, for example.)  The\\ndata set contains 3 classes of 50 instances each, where each class refers to a\\ntype of iris plant.  One class is linearly separable from the other 2; the\\nlatter are NOT linearly separable from each other.\\n\\n.. topic:: References\\n\\n   - Fisher, R.A. \"The use of multiple measurements in taxonomic problems\"\\n     Annual Eugenics, 7, Part II, 179-188 (1936); also in \"Contributions to\\n     Mathematical Statistics\" (John Wiley, NY, 1950).\\n   - Duda, R.O., & Hart, P.E. (1973) Pattern Classification and Scene Analysis.\\n     (Q327.D83) John Wiley & Sons.  ISBN 0-471-22361-1.  See page 218.\\n   - Dasarathy, B.V. (1980) \"Nosing Around the Neighborhood: A New System\\n     Structure and Classification Rule for Recognition in Partially Exposed\\n     Environments\".  IEEE Transactions on Pattern Analysis and Machine\\n     Intelligence, Vol. PAMI-2, No. 1, 67-71.\\n   - Gates, G.W. (1972) \"The Reduced Nearest Neighbor Rule\".  IEEE Transactions\\n     on Information Theory, May 1972, 431-433.\\n   - See also: 1988 MLC Proceedings, 54-64.  Cheeseman et al\"s AUTOCLASS II\\n     conceptual clustering system finds 3 classes in the data.\\n   - Many, many more ...'"
      ]
     },
     "execution_count": 87,
     "metadata": {},
     "output_type": "execute_result"
    }
   ],
   "source": [
    "iris.DESCR"
   ]
  },
  {
   "cell_type": "code",
   "execution_count": 88,
   "id": "2bdb596a",
   "metadata": {},
   "outputs": [
    {
     "name": "stderr",
     "output_type": "stream",
     "text": [
      "C:\\Users\\noura\\AppData\\Local\\Temp/ipykernel_8932/3902192443.py:2: DeprecationWarning: `np.int` is a deprecated alias for the builtin `int`. To silence this warning, use `int` by itself. Doing this will not modify any behavior and is safe. When replacing `np.int`, you may wish to use e.g. `np.int64` or `np.int32` to specify the precision. If you wish to review your current use, check the release note link for additional information.\n",
      "Deprecated in NumPy 1.20; for more details and guidance: https://numpy.org/devdocs/release/1.20.0-notes.html#deprecations\n",
      "  y = (iris['target'] == 2).astype(np.int)\n"
     ]
    }
   ],
   "source": [
    "X = iris['data'][:,3:]\n",
    "y = (iris['target'] == 2).astype(np.int)"
   ]
  },
  {
   "cell_type": "code",
   "execution_count": 89,
   "id": "b082f1c7",
   "metadata": {},
   "outputs": [
    {
     "data": {
      "text/plain": [
       "LogisticRegression()"
      ]
     },
     "execution_count": 89,
     "metadata": {},
     "output_type": "execute_result"
    }
   ],
   "source": [
    "from sklearn.linear_model import LogisticRegression\n",
    "\n",
    "log_reg = LogisticRegression()\n",
    "log_reg.fit(X,y)"
   ]
  },
  {
   "cell_type": "code",
   "execution_count": 90,
   "id": "170ceb3f",
   "metadata": {},
   "outputs": [
    {
     "data": {
      "text/plain": [
       "[<matplotlib.lines.Line2D at 0x2288fe9f5e0>]"
      ]
     },
     "execution_count": 90,
     "metadata": {},
     "output_type": "execute_result"
    },
    {
     "data": {
      "image/png": "[encoded data removed]",
      "text/plain": [
       "<Figure size 432x288 with 1 Axes>"
      ]
     },
     "metadata": {
      "needs_background": "light"
     },
     "output_type": "display_data"
    }
   ],
   "source": [
    "X_new = np.linspace(0,3,1000).reshape(-1,1)\n",
    "y_proba = log_reg.predict_proba(X_new)\n",
    "\n",
    "plt.plot(X_new, y_proba[:, 1], \"g-\", linewidth=2, label=\"Iris virginica\")\n",
    "plt.plot(X_new, y_proba[:, 0], \"b--\", linewidth=2, label=\"Not Iris virginica\")"
   ]
  },
  {
   "cell_type": "code",
   "execution_count": 91,
   "id": "fe239934",
   "metadata": {},
   "outputs": [
    {
     "data": {
      "text/plain": [
       "array([1, 0])"
      ]
     },
     "execution_count": 91,
     "metadata": {},
     "output_type": "execute_result"
    }
   ],
   "source": [
    "log_reg.predict([[1.7],[1.5]])"
   ]
  },
  {
   "cell_type": "markdown",
   "id": "2607ec75",
   "metadata": {},
   "source": [
    "# Softmax  Regression"
   ]
  },
  {
   "cell_type": "code",
   "execution_count": 92,
   "id": "39fca650",
   "metadata": {},
   "outputs": [],
   "source": [
    "X = iris['data'][:,(2,3)]\n",
    "y = iris['target']"
   ]
  },
  {
   "cell_type": "code",
   "execution_count": 93,
   "id": "5520dfe3",
   "metadata": {},
   "outputs": [
    {
     "data": {
      "text/plain": [
       "LogisticRegression(C=10, multi_class='multinomial')"
      ]
     },
     "execution_count": 93,
     "metadata": {},
     "output_type": "execute_result"
    }
   ],
   "source": [
    "softmax_reg = LogisticRegression(multi_class='multinomial', solver='lbfgs', C=10)\n",
    "softmax_reg.fit(X,y)"
   ]
  },
  {
   "cell_type": "code",
   "execution_count": 94,
   "id": "1cba21c5",
   "metadata": {},
   "outputs": [
    {
     "data": {
      "text/plain": [
       "array([2])"
      ]
     },
     "execution_count": 94,
     "metadata": {},
     "output_type": "execute_result"
    }
   ],
   "source": [
    "softmax_reg.predict([[5,2]])"
   ]
  },
  {
   "cell_type": "code",
   "execution_count": 95,
   "id": "94fbca06",
   "metadata": {},
   "outputs": [
    {
     "data": {
      "text/plain": [
       "array([[6.38014896e-07, 5.74929995e-02, 9.42506362e-01]])"
      ]
     },
     "execution_count": 95,
     "metadata": {},
     "output_type": "execute_result"
    }
   ],
   "source": [
    "softmax_reg.predict_proba([[5,2]])"
   ]
  },
  {
   "cell_type": "markdown",
   "id": "e6efa924",
   "metadata": {},
   "source": [
    "# Exercises"
   ]
  },
  {
   "cell_type": "markdown",
   "id": "223b1f24",
   "metadata": {},
   "source": [
    "#### 1.\n",
    "It's better to use Stochastic GD or Mini-batch GD. Batch GD requires high hardware capabilities. Normal Equation and th SVD get very slow when the number of features grows large."
   ]
  },
  {
   "cell_type": "markdown",
   "id": "e1eb0719",
   "metadata": {},
   "source": [
    "#### 2.\n",
    "In GD, the cost function can have a shape of elongated bowl if the features have very different scales. Using regularization, GD can reach a near optimum. Normal Equation and SVD can do it well."
   ]
  },
  {
   "cell_type": "markdown",
   "id": "9f676e62",
   "metadata": {},
   "source": [
    "#### 3.\n",
    "Logistic Regression's cost function is covex, so GD will find the global minimum."
   ]
  },
  {
   "cell_type": "markdown",
   "id": "68b840ed",
   "metadata": {},
   "source": [
    "#### 4.\n",
    "If the problem is convex, all GD algorithms will converge. But, Stochastic and Mini-batch GD less likely to reach optimum or near optimum if not decreasing learning rate instead it will nounce up and down. So, even of you run it for a very long time, GD algorithms will produce different models"
   ]
  },
  {
   "cell_type": "markdown",
   "id": "b5a51b85",
   "metadata": {},
   "source": [
    "#### 5.\n",
    "If the validation error goes up and the training error does not, it's a problem of overfitting which means the model works well for the training data but not with the validation or testing set. Possible solutions are to simplify the model by selecting one with fewer parameters, reducing the numeber of attributes or constraining the model, to gather more training data, or to reduce the noise in the training data.\n",
    "If the validation error goes up, you should and the training error too, you should use a smaller learning rate."
   ]
  },
  {
   "cell_type": "markdown",
   "id": "7841c1ec",
   "metadata": {},
   "source": [
    "#### 6.\n",
    "It's not a good idea to stop the Mini-batch GD immediately when the validation error goes up because Mini-batch GD has a random nature, so using a stop criteria will be much better."
   ]
  },
  {
   "cell_type": "markdown",
   "id": "5072b925",
   "metadata": {},
   "source": [
    "#### 7.\n",
    "Stochastic GD is the fastest as it uses an instance of the training set while Batch GD uses all the training set and Mini-batch GD uses sets of instances. Batch GD is more likely to reach the vicinity of the optimum solution. Batch GD will actually converge but not the others. We can make Stochastic and Mini-batch GD converge by reducing learning rate gradually."
   ]
  },
  {
   "cell_type": "markdown",
   "id": "042e4f3b",
   "metadata": {},
   "source": [
    "#### 8.\n",
    "A lage gap between the training error and the validation error shows a problem of overfitting. Possible solutions are to simplify the model by selecting one with fewer parameters, reducing the numeber of attributes or constraining the model, to gather more training data, or to reduce the noise in the training data."
   ]
  },
  {
   "cell_type": "markdown",
   "id": "61164b50",
   "metadata": {},
   "source": [
    "#### 9.\n",
    "A high bias model is most likely to underfit. We should reduce the regularization hyperparameter alpha."
   ]
  },
  {
   "cell_type": "markdown",
   "id": "2cb27c31",
   "metadata": {},
   "source": [
    "#### 10.\n",
    "##### a.\n",
    "Ridge Regression is used to reduce overfitting.\n",
    "##### b.\n",
    "Lasso uses l1 norm instead of half the square of the l2 norm. It tends to eliminate the weights of the least important features.\n",
    "##### c.\n",
    "Elastic Net is a middle ground between Lasso and Ridge Regression. Elastic Net is preferred over Lasso because Lasso may behave erratically when the number of features is greater than the number of training instances or when severl features are strongly correlated"
   ]
  },
  {
   "cell_type": "markdown",
   "id": "a3c29bd5",
   "metadata": {},
   "source": [
    "#### 11.\n",
    "You should train two Logisitc Regression classifiers as more than a possiblity may appear."
   ]
  },
  {
   "cell_type": "markdown",
   "id": "b3059d9f",
   "metadata": {},
   "source": [
    "##### 12.  Batch Gradient Descent with early stopping for Softmax Regression"
   ]
  },
  {
   "cell_type": "code",
   "execution_count": 96,
   "id": "494ca787",
   "metadata": {},
   "outputs": [],
   "source": [
    "# Adding the bias term\n",
    "X_bias = np.c_[np.ones([len(X), 1]), X]"
   ]
  },
  {
   "cell_type": "code",
   "execution_count": 116,
   "id": "8753a931",
   "metadata": {},
   "outputs": [],
   "source": [
    "# Splitting data into train, val, and test sets.\n",
    "all_size = len(X_bias)\n",
    "test_ratio = 0.2\n",
    "val_ratio = 0.2\n",
    "test_size = int(test_ratio * all_size)\n",
    "size = all_size - test_size\n",
    "val_size = int(val_ratio * size)\n",
    "train_size = int(size - val_size)\n",
    "\n",
    "\n",
    "rnd_indx = np.random.permutation(all_size)\n",
    "\n",
    "X_train = X_bias[rnd_indx[:train_size]]\n",
    "X_val = X_bias[rnd_indx[train_size:-val_size]]\n",
    "X_test = X_bias[rnd_indx[-test_size:]]\n",
    "y_train = y[rnd_indx[:train_size]]\n",
    "y_val = y[rnd_indx[train_size:-val_size]]\n",
    "y_test = y[rnd_indx[-test_size:]]"
   ]
  },
  {
   "cell_type": "code",
   "execution_count": 117,
   "id": "874453bb",
   "metadata": {},
   "outputs": [
    {
     "data": {
      "text/plain": [
       "array([[1. , 5.3, 2.3],\n",
       "       [1. , 3.9, 1.4],\n",
       "       [1. , 5.5, 2.1],\n",
       "       [1. , 5.6, 2.4],\n",
       "       [1. , 1.4, 0.2],\n",
       "       [1. , 1.7, 0.3],\n",
       "       [1. , 4.9, 1.5],\n",
       "       [1. , 5.6, 1.8],\n",
       "       [1. , 4.4, 1.4],\n",
       "       [1. , 1.9, 0.4]])"
      ]
     },
     "execution_count": 117,
     "metadata": {},
     "output_type": "execute_result"
    }
   ],
   "source": [
    "X_train[:10]"
   ]
  },
  {
   "cell_type": "code",
   "execution_count": 118,
   "id": "456152cf",
   "metadata": {},
   "outputs": [
    {
     "data": {
      "text/plain": [
       "array([2, 1, 2, 2, 0, 0, 1, 2, 1, 0])"
      ]
     },
     "execution_count": 118,
     "metadata": {},
     "output_type": "execute_result"
    }
   ],
   "source": [
    "y_train[:10]"
   ]
  },
  {
   "cell_type": "code",
   "execution_count": 119,
   "id": "637a9ee0",
   "metadata": {},
   "outputs": [],
   "source": [
    "def one_hot_encode(y):\n",
    "    n = y.max() + 1\n",
    "    m = len(y)\n",
    "    Y_one_hot = np.zeros((m, n))\n",
    "    Y_one_hot[np.arange(m),y] = 1\n",
    "    return Y_one_hot"
   ]
  },
  {
   "cell_type": "code",
   "execution_count": 120,
   "id": "609ce39a",
   "metadata": {},
   "outputs": [
    {
     "data": {
      "text/plain": [
       "array([[0., 0., 1.],\n",
       "       [0., 1., 0.],\n",
       "       [0., 0., 1.],\n",
       "       [0., 0., 1.],\n",
       "       [1., 0., 0.],\n",
       "       [1., 0., 0.],\n",
       "       [0., 1., 0.],\n",
       "       [0., 0., 1.],\n",
       "       [0., 1., 0.],\n",
       "       [1., 0., 0.]])"
      ]
     },
     "execution_count": 120,
     "metadata": {},
     "output_type": "execute_result"
    }
   ],
   "source": [
    "one_hot_encode(y_train[:10])"
   ]
  },
  {
   "cell_type": "code",
   "execution_count": 121,
   "id": "2726572f",
   "metadata": {},
   "outputs": [],
   "source": [
    "Y_train_encoded = one_hot_encode(y_train)\n",
    "Y_val_encoded = one_hot_encode(y_val)\n",
    "Y_test_encoded = one_hot_encode(y_test)"
   ]
  },
  {
   "cell_type": "code",
   "execution_count": 138,
   "id": "e8391e82",
   "metadata": {},
   "outputs": [],
   "source": [
    "def softmax(logits):\n",
    "    exps = np.exp(logits)\n",
    "    exp_sum = np.sum(exps, axis=1, keepdims=True)\n",
    "    return exps / exp_sum"
   ]
  },
  {
   "cell_type": "code",
   "execution_count": 145,
   "id": "15c7bacd",
   "metadata": {},
   "outputs": [
    {
     "data": {
      "text/plain": [
       "(3, 3)"
      ]
     },
     "execution_count": 145,
     "metadata": {},
     "output_type": "execute_result"
    }
   ],
   "source": [
    "n_features = X_train.shape[1]\n",
    "n_outputs = len(np.unique(y_train))\n",
    "n_features, n_outputs"
   ]
  },
  {
   "cell_type": "code",
   "execution_count": 148,
   "id": "fe191069",
   "metadata": {},
   "outputs": [
    {
     "name": "stdout",
     "output_type": "stream",
     "text": [
      "0 4.20042811319872\n",
      "500 0.9155967190696401\n",
      "1000 0.7140015320167098\n",
      "1500 0.6067786082695107\n",
      "2000 0.5411998401033412\n",
      "2500 0.49641678313948256\n",
      "3000 0.46334295362422134\n",
      "3500 0.4375156011415691\n",
      "4000 0.4165101790845795\n",
      "4500 0.3988990244285279\n",
      "5000 0.38378573298943836\n"
     ]
    }
   ],
   "source": [
    "eta = 0.01\n",
    "n_iterations = 5001\n",
    "m = len(X_train)\n",
    "epsilon = 1e-7\n",
    "\n",
    "Theta = np.random.randn(n_features, n_outputs)\n",
    "\n",
    "\n",
    "for iteration in range(n_iterations):\n",
    "    logits = X_train.dot(Theta)\n",
    "    Y_proba = softmax(logits)\n",
    "    if iteration % 500 == 0:\n",
    "        loss = -np.mean(np.sum(Y_train_encoded * np.log(Y_proba + epsilon), axis=1))\n",
    "        print(iteration, loss)\n",
    "    error = Y_proba - Y_train_encoded\n",
    "    gradients = 1/m * X_train.T.dot(error)\n",
    "    Theta = Theta - eta * gradients  "
   ]
  },
  {
   "cell_type": "code",
   "execution_count": 149,
   "id": "02fcaa13",
   "metadata": {},
   "outputs": [
    {
     "data": {
      "text/plain": [
       "array([[ 3.40070783, -0.70964273, -1.9984983 ],\n",
       "       [-0.66091271,  0.66261183, -0.1116774 ],\n",
       "       [-2.16311822, -1.49733435,  1.68455855]])"
      ]
     },
     "execution_count": 149,
     "metadata": {},
     "output_type": "execute_result"
    }
   ],
   "source": [
    "Theta"
   ]
  },
  {
   "cell_type": "code",
   "execution_count": 151,
   "id": "190da7fc",
   "metadata": {},
   "outputs": [
    {
     "data": {
      "text/plain": [
       "0.8666666666666667"
      ]
     },
     "execution_count": 151,
     "metadata": {},
     "output_type": "execute_result"
    }
   ],
   "source": [
    "logits = X_val.dot(Theta)\n",
    "Y_proba = softmax(logits)\n",
    "y_predict = np.argmax(Y_proba, axis=1)\n",
    "\n",
    "accuracy_score = np.mean(y_predict == y_val)\n",
    "accuracy_score"
   ]
  },
  {
   "cell_type": "code",
   "execution_count": 156,
   "id": "693347e5",
   "metadata": {},
   "outputs": [
    {
     "name": "stdout",
     "output_type": "stream",
     "text": [
      "0 2.5953176987410904\n",
      "500 0.5473308091615826\n",
      "1000 0.5193534265642435\n",
      "1500 0.5104872935688342\n",
      "2000 0.5068403291936042\n",
      "2500 0.505184772813089\n",
      "3000 0.5043763708471254\n",
      "3500 0.5039559270563857\n",
      "4000 0.5037248220322074\n",
      "4500 0.5035916719896882\n",
      "5000 0.5035119677185111\n"
     ]
    }
   ],
   "source": [
    "eta = 0.1 \n",
    "n_iterations = 5001\n",
    "m = len(X_train)\n",
    "epsilon = 1e-7\n",
    "alpha = 0.1  # regularization hyperparameter\n",
    "best_loss = np.infty\n",
    "\n",
    "Theta = np.random.randn(n_features, n_outputs)\n",
    "\n",
    "for iteration in range(n_iterations):\n",
    "    logits = X_train.dot(Theta)\n",
    "    Y_proba = softmax(logits)\n",
    "    error = Y_proba - Y_train_encoded\n",
    "    gradients = 1/m * X_train.T.dot(error) + np.r_[np.zeros([1, n_outputs]), alpha * Theta[1:]]\n",
    "    Theta = Theta - eta * gradients\n",
    "\n",
    "    logits = X_val.dot(Theta)\n",
    "    Y_proba = softmax(logits)\n",
    "    xentropy_loss = -np.mean(np.sum(Y_val_encoded * np.log(Y_proba + epsilon), axis=1))\n",
    "    l2_loss = 1/2 * np.sum(np.square(Theta[1:]))\n",
    "    loss = xentropy_loss + alpha * l2_loss\n",
    "    if iteration % 500 == 0:\n",
    "        print(iteration, loss)\n",
    "    if loss < best_loss:\n",
    "        best_loss = loss\n",
    "    else:\n",
    "        print(iteration - 1, best_loss)\n",
    "        print(iteration, loss, \"early stopping!\")\n",
    "        break"
   ]
  },
  {
   "cell_type": "code",
   "execution_count": 157,
   "id": "456a673d",
   "metadata": {},
   "outputs": [
    {
     "data": {
      "text/plain": [
       "1.0"
      ]
     },
     "execution_count": 157,
     "metadata": {},
     "output_type": "execute_result"
    }
   ],
   "source": [
    "logits = X_val.dot(Theta)\n",
    "Y_proba = softmax(logits)\n",
    "y_predict = np.argmax(Y_proba, axis=1)\n",
    "\n",
    "accuracy_score = np.mean(y_predict == y_val)\n",
    "accuracy_score"
   ]
  },
  {
   "cell_type": "code",
   "execution_count": 158,
   "id": "39286fc3",
   "metadata": {},
   "outputs": [
    {
     "data": {
      "text/plain": [
       "0.9666666666666667"
      ]
     },
     "execution_count": 158,
     "metadata": {},
     "output_type": "execute_result"
    }
   ],
   "source": [
    "logits = X_test.dot(Theta)\n",
    "Y_proba = softmax(logits)\n",
    "y_predict = np.argmax(Y_proba, axis=1)\n",
    "\n",
    "accuracy_score = np.mean(y_predict == y_test)\n",
    "accuracy_score"
   ]
  },
  {
   "cell_type": "code",
   "execution_count": null,
   "id": "8de07b68",
   "metadata": {},
   "outputs": [],
   "source": []
  }
 ],
 "metadata": {
  "kernelspec": {
   "display_name": "Python 3 (ipykernel)",
   "language": "python",
   "name": "python3"
  },
  "language_info": {
   "codemirror_mode": {
    "name": "ipython",
    "version": 3
   },
   "file_extension": ".py",
   "mimetype": "text/x-python",
   "name": "python",
   "nbconvert_exporter": "python",
   "pygments_lexer": "ipython3",
   "version": "3.9.7"
  },
  "vp": {
   "vp_config_version": "1.0.0",
   "vp_menu_width": 273,
   "vp_note_display": false,
   "vp_note_width": 0,
   "vp_position": {
    "width": 278
   },
   "vp_section_display": false,
   "vp_signature": "VisualPython"
  }
 },
 "nbformat": 4,
 "nbformat_minor": 5
}
